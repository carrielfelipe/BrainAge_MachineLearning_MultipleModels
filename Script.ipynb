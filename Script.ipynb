{
 "cells": [
  {
   "cell_type": "markdown",
   "metadata": {},
   "source": [
    "# Brain Age 20-90 Script"
   ]
  },
  {
   "cell_type": "code",
   "execution_count": 1,
   "metadata": {},
   "outputs": [],
   "source": [
    "path=  'C:/Users/felip/OneDrive - Universidad Técnica Federico Santa María/Documentos/Brain/'\n",
    "#import sys\n",
    "#sys.path.append(path) \n",
    "path_=  'C:/Users/felip/OneDrive - Universidad Técnica Federico Santa María/Documentos/Brain/Brain_Age_Clock/'\n",
    "import sys\n",
    "sys.path.append(path_) "
   ]
  },
  {
   "cell_type": "markdown",
   "metadata": {},
   "source": [
    "# Regressor"
   ]
  },
  {
   "cell_type": "code",
   "execution_count": null,
   "metadata": {},
   "outputs": [
    {
     "name": "stderr",
     "output_type": "stream",
     "text": [
      "c:\\python_env\\brain_age_env\\Lib\\site-packages\\tqdm\\auto.py:21: TqdmWarning: IProgress not found. Please update jupyter and ipywidgets. See https://ipywidgets.readthedocs.io/en/stable/user_install.html\n",
      "  from .autonotebook import tqdm as notebook_tqdm\n"
     ]
    }
   ],
   "source": [
    "from sklearn.linear_model import Lasso\n",
    "from base_regressor import BaseRegressor\n",
    "from Plotter import Plotter\n",
    "from skopt.space import Real, Categorical, Integer\n",
    "\n",
    "class LassoRegressor(BaseRegressor):\n",
    "    def __init__(self, save_path=None, scaler=None, params=None, params_space=None, fit_params_search=None, model_params_search=None, fit_params_train=None, model_params_train=None, name_model=\"Lasso\"):\n",
    "        super().__init__(save_path, scaler, params, params_space, fit_params_search, model_params_search, fit_params_train, model_params_train, name_model)\n",
    "\n",
    "        self.model_ml = Lasso\n",
    "        if params is None:\n",
    "            self.params = {\n",
    "                'alpha': 0.2,\n",
    "                'max_iter': 10000,\n",
    "                #'tol': 0.001\n",
    "            }\n",
    "        if params_space is None:\n",
    "            self.params_space = {\n",
    "                'alpha': Real(0.001, 10.0, prior='log-uniform'),\n",
    "                'max_iter': Integer(100, 10000),\n",
    "                'tol': Real(1e-5, 1e-2, prior='log-uniform')\n",
    "            }\n"
   ]
  },
  {
   "cell_type": "markdown",
   "metadata": {},
   "source": [
    "# Pipeline"
   ]
  },
  {
   "cell_type": "code",
   "execution_count": null,
   "metadata": {},
   "outputs": [],
   "source": [
    "import pandas as pd\n",
    "from sklearn.preprocessing import StandardScaler\n",
    "def pipeline_regression_clocks(model_reg, df_concatenado_CN, Scaler_reg_train, Scaler_reg):\n",
    "    # --------------------------- 1. Selección de Métricas ---------------------------\n",
    "    X_CN = df_concatenado_CN.iloc[:, :-2]\n",
    "    y_CN = df_concatenado_CN.iloc[:, -2]\n",
    "    ID_CN = df_concatenado_CN.iloc[:, -1]\n",
    "\n",
    "    Scaler_reg.fit(X_CN)\n",
    "    X_CN_scaled = Scaler_reg.transform(X_CN)\n",
    "    X_CN_scaled = pd.DataFrame(X_CN_scaled, columns=X_CN.columns)\n",
    "    \n",
    "    # --------------------------- 2. Búsqueda de Hiperparámetros ---------------------------\n",
    "    opt_model, best_params = model_reg.search_best_model (X=X_CN_scaled, y=y_CN, n_iter_=50, scoring_metric='neg_mean_absolute_error')\n",
    "\n",
    "    # --------------------------- 3. Entrenamiento con Controles ---------------------------\n",
    "    results_labels_df_CN_train, results_labels_df_CN_test,  results_model, results_per_fold_CN_train, results_per_fold_CN_test, df_CN_avg_train,df_CN_avg_test= model.trainer(\n",
    "        X=X_CN,\n",
    "        y=y_CN,\n",
    "        ID_label='ID-unique',\n",
    "        ID=ID_CN,\n",
    "        n_splits=10,\n",
    "        n_iterations=20,\n",
    "        params_=best_params\n",
    "    )\n",
    "\n",
    "    # --------------------------- 4. Shap ---------------------------\n",
    "    shap_values_CN, shap_values_avg_CN, shap_summary_sorted_CN, shap_per_fold_CN = model_reg.calculate_multiple_shap(\n",
    "    df_concatenado_CN, df_concatenado_CN,'ID-unique', results_per_fold_CN_train, results_per_fold_CN_test, results_model['model'],scaler=Scaler_reg_train)\n",
    "    \n",
    "    # --------------------------- 5. Concatenación de Resultados ---------------------------\n",
    "   \n",
    "\n",
    "    # --------------------------- Resultado Final ---------------------------\n",
    "    return (\n",
    "        columnas_por_region,\n",
    "        (opt_models, best_params),\n",
    "        (results_labels_CN_train, results_labels_CN_test, results_models, results_folds_CN_train, \n",
    "         results_folds_CN_test, results_avg_CN_train, results_avg_CN_test),\n",
    "        (results_labels_test_Patient, results_folds_test_Patient, results_avg_test_Patient),\n",
    "        (df_results_clocks_CN, df_results_clocks_AD, df_results_clocks_FTD)\n",
    "    )\n"
   ]
  }
 ],
 "metadata": {
  "kernelspec": {
   "display_name": "brain_age_env",
   "language": "python",
   "name": "python3"
  },
  "language_info": {
   "codemirror_mode": {
    "name": "ipython",
    "version": 3
   },
   "file_extension": ".py",
   "mimetype": "text/x-python",
   "name": "python",
   "nbconvert_exporter": "python",
   "pygments_lexer": "ipython3",
   "version": "3.12.4"
  }
 },
 "nbformat": 4,
 "nbformat_minor": 2
}
